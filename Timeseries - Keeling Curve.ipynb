{
 "cells": [
  {
   "cell_type": "markdown",
   "metadata": {},
   "source": [
    "# Keeling Curve - Time Series "
   ]
  },
  {
   "cell_type": "markdown",
   "metadata": {},
   "source": [
    "Author: Harry Yau"
   ]
  },
  {
   "cell_type": "markdown",
   "metadata": {},
   "source": [
    "This notebook will be investing time series forecasting using the Facebook Prophet package. https://facebook.github.io/prophet/. The dataset that will be utilized is the carbon dioxide (CO<sub>2</sub>) measurements from the Mauna Loa Observatory. This monitoring station has been recording data since 1958. This dataset is also known as the Keeling Curve, which is aptly named to the scientist Charles David Keeling, and is a graph that shows the accumulation of CO<sub>2</sub> in the atmosphere. The Keeling Curve is famous for bringing the attention of the increase in CO<sub>2</sub> concentrations in the atmosphere.\n",
    "\n",
    "For more information about this Keeling Curve, please read the following Wikipedia page: https://en.wikipedia.org/wiki/Keeling_Curve"
   ]
  },
  {
   "cell_type": "code",
   "execution_count": 1,
   "metadata": {},
   "outputs": [],
   "source": [
    "import pandas as pd\n",
    "import numpy as np\n",
    "\n",
    "import datetime\n",
    "import matplotlib.pyplot as plt\n",
    "\n",
    "\n",
    "import warnings\n",
    "warnings.filterwarnings('ignore')\n",
    "\n",
    "from fbprophet import Prophet"
   ]
  },
  {
   "cell_type": "markdown",
   "metadata": {},
   "source": [
    "#### Loading the Data"
   ]
  },
  {
   "cell_type": "markdown",
   "metadata": {},
   "source": [
    "The data will be downloaded from this website: http://scrippsco2.ucsd.edu/data/atmospheric_co2/mlo. The monthly frequency will be used."
   ]
  },
  {
   "cell_type": "code",
   "execution_count": null,
   "metadata": {},
   "outputs": [],
   "source": [
    "url = \"http://scrippsco2.ucsd.edu/assets/data/atmospheric/stations/in_situ_co2/monthly/monthly_in_situ_co2_mlo.csv\"\n",
    "\n",
    "data = pd.read_csv(url, skiprows=56, na_values=-99.99)\n",
    "\n",
    "#Change the column names. The column names on the data set spans two rows.\n",
    "colname = ['Yr', 'Mn', 'Excel Date', 'Date', 'CO2 (PPM)', 'CO2 Seasonally Adjusted (PPM)', \n",
    "           'CO2 Fit (PPM)', 'CO2 Seasonally Adjusted Fit (PPM)', 'CO2 Filled (PPM)', 'CO2 Seasonally Adjusted Filled (PPM)']\n",
    "data.columns = colname"
   ]
  },
  {
   "cell_type": "code",
   "execution_count": null,
   "metadata": {},
   "outputs": [],
   "source": [
    "data.head()"
   ]
  },
  {
   "cell_type": "markdown",
   "metadata": {},
   "source": [
    "We will be using the column 'CO2 Filled (PPM)' as the monthly CO2 data. For a detailed explanation on the different columns of CO2's, please download the csv file and there is a detailed explanation between row 39 to 51."
   ]
  },
  {
   "cell_type": "markdown",
   "metadata": {},
   "source": [
    "#### Convert Dates to Time Stamp"
   ]
  },
  {
   "cell_type": "code",
   "execution_count": null,
   "metadata": {},
   "outputs": [],
   "source": [
    "data['TimeStamp'] = pd.to_datetime(data['Yr'].astype(str).str.cat(data['Mn'].astype(str), sep='-'))"
   ]
  },
  {
   "cell_type": "markdown",
   "metadata": {},
   "source": [
    "#### Creating the DataFrame for Prophet"
   ]
  },
  {
   "cell_type": "markdown",
   "metadata": {},
   "source": [
    "Fitting the function for Prophet requires the input DataFrame to have column names of 'ds' and 'y'.\n",
    "\n",
    "- ds: A column with type timestamps\n",
    "- y: The value that the timeseries forecasting will be based on"
   ]
  },
  {
   "cell_type": "code",
   "execution_count": null,
   "metadata": {},
   "outputs": [],
   "source": [
    "df_prophet = data.loc[:, ['TimeStamp', 'CO2 Filled (PPM)']].copy()\n",
    "df_prophet.columns = ['ds', 'y']\n",
    "df_prophet.dropna(inplace=True) #The 'filled' data is being used, so rows of NaN will only occur at the top and bottom of the dataset.\n",
    "df_prophet.reset_index(drop=True, inplace=True)"
   ]
  },
  {
   "cell_type": "code",
   "execution_count": null,
   "metadata": {},
   "outputs": [],
   "source": [
    "df_prophet.head()"
   ]
  },
  {
   "cell_type": "markdown",
   "metadata": {},
   "source": [
    "#### Fitting the Prophet Model"
   ]
  },
  {
   "cell_type": "code",
   "execution_count": null,
   "metadata": {},
   "outputs": [],
   "source": [
    "keeling_model = Prophet(interval_width=0.95, yearly_seasonality=True, weekly_seasonality=False, daily_seasonality=False)\n",
    "keeling_model.fit(df_prophet)"
   ]
  },
  {
   "cell_type": "markdown",
   "metadata": {},
   "source": [
    "#### Forecasting using Prophet"
   ]
  },
  {
   "cell_type": "markdown",
   "metadata": {},
   "source": [
    "We will be forecasting the Keeling Curve for 20 years in the future with a monthly frequency."
   ]
  },
  {
   "cell_type": "code",
   "execution_count": null,
   "metadata": {},
   "outputs": [],
   "source": [
    "year = 20\n",
    "fcst_period = year * 12\n",
    "\n",
    "future_dates = keeling_model.make_future_dataframe(periods=fcst_period, freq='M')\n",
    "keeling_fcst = keeling_model.predict(future_dates)"
   ]
  },
  {
   "cell_type": "code",
   "execution_count": null,
   "metadata": {},
   "outputs": [],
   "source": [
    "#Font Settings\n",
    "font_size_title = 20\n",
    "font_size_label = 15\n",
    "font_size_tick = 12\n",
    "\n",
    "#Grabbing the first index\n",
    "first_idx = df_prophet.shape[0]\n",
    "\n",
    "plt.figure(figsize=(8,8))\n",
    "\n",
    "plt.fill_between(keeling_fcst['ds'][first_idx:], keeling_fcst['yhat_lower'][first_idx:], \n",
    "                 keeling_fcst['yhat_upper'][first_idx:], color='lightcoral', alpha = 0.5)\n",
    "plt.plot(keeling_fcst['ds'][first_idx:], keeling_fcst['yhat'][first_idx:], color='red', linestyle ='dashed')\n",
    "plt.plot(df_prophet['ds'].astype('datetime64'), df_prophet['y'], 'k-')\n",
    "plt.xlabel('Year', fontsize=font_size_label)\n",
    "plt.ylabel('CO$_2$ Concentration (ppm)', fontsize=font_size_label)\n",
    "plt.title('Monthly Average CO$_2$ Concentration', fontsize=font_size_label);\n",
    "plt.xticks(fontsize=font_size_tick)\n",
    "plt.yticks(fontsize=font_size_tick)\n",
    "plt.show();"
   ]
  },
  {
   "cell_type": "markdown",
   "metadata": {},
   "source": [
    "#### Plotly Version of the Chart"
   ]
  },
  {
   "cell_type": "code",
   "execution_count": null,
   "metadata": {},
   "outputs": [],
   "source": [
    "import plotly\n",
    "import plotly.graph_objs as go\n",
    "\n",
    "plotly.offline.init_notebook_mode()"
   ]
  },
  {
   "cell_type": "code",
   "execution_count": null,
   "metadata": {},
   "outputs": [],
   "source": [
    "#Font Settings\n",
    "font_size_title = 20\n",
    "font_size_label = 15\n",
    "font_size_tick = 12\n",
    "\n",
    "#Grabbing the first index\n",
    "first_idx = df_prophet.shape[0]\n",
    "\n",
    "fig = go.Figure()\n",
    "\n",
    "#Add traces\n",
    "fig.add_trace(go.Scatter(x=keeling_fcst['ds'][first_idx:], \n",
    "                         y=keeling_fcst['yhat_lower'][first_idx:], \n",
    "                         mode='lines', \n",
    "                         line={'color': 'lightcoral'},\n",
    "                         hoverinfo='skip',\n",
    "                         showlegend=False\n",
    "                        ))\n",
    "\n",
    "fig.add_trace(go.Scatter(x=keeling_fcst['ds'][first_idx:], \n",
    "                         y=keeling_fcst['yhat_upper'][first_idx:], \n",
    "                         fill='tonexty',\n",
    "                         fillcolor='rgba(240,128,128,0.5)', #Opacity only accepts RGBA\n",
    "                         mode='lines', \n",
    "                         line={'color': 'lightcoral'},\n",
    "                         hoverinfo='skip', \n",
    "                         name='95% Confidence Interval'\n",
    "                        ))\n",
    "\n",
    "fig.add_trace(go.Scatter(x=df_prophet['ds'], \n",
    "                         y=df_prophet['y'], \n",
    "                         mode='lines',\n",
    "                         line={'color': 'black'},\n",
    "                         hoverinfo=['x', 'y'],\n",
    "                         name='Observed'\n",
    "                        ))\n",
    "\n",
    "fig.add_trace(go.Scatter(x=keeling_fcst['ds'][first_idx:], \n",
    "                         y=round(keeling_fcst['yhat'][first_idx:], 2), \n",
    "                         mode='lines', \n",
    "                         line={'dash': 'dash', 'color': 'red'}, \n",
    "                         name='Projected'\n",
    "                        ))\n",
    "\n",
    "fig.update_layout(\n",
    "    \n",
    "    title=go.layout.Title(\n",
    "        text = 'Monthly Average CO<sub>2</sub> Concentration',\n",
    "        font=dict(size=font_size_title)\n",
    "     ),\n",
    "    \n",
    "    xaxis=go.layout.XAxis(\n",
    "        title=go.layout.xaxis.Title(\n",
    "            text = 'Year',\n",
    "            font = dict(size=font_size_label)\n",
    "        )\n",
    "    ),\n",
    "    \n",
    "    yaxis=go.layout.YAxis(\n",
    "        title=go.layout.yaxis.Title(\n",
    "            text='CO<sub>2</sub> Concentration',\n",
    "            font = dict(size=font_size_label)\n",
    "        ),\n",
    "        ticksuffix=' ppm', \n",
    "        showtickprefix='first',\n",
    "        showticksuffix='last'\n",
    "    ),\n",
    "    \n",
    "    legend=go.layout.Legend(\n",
    "        x=0,\n",
    "        y=1\n",
    "    )\n",
    "    \n",
    ")\n",
    "\n",
    "plotly.offline.iplot(fig, filename = 'basic-line')"
   ]
  }
 ],
 "metadata": {
  "kernelspec": {
   "display_name": "Python 3",
   "language": "python",
   "name": "python3"
  },
  "language_info": {
   "codemirror_mode": {
    "name": "ipython",
    "version": 3
   },
   "file_extension": ".py",
   "mimetype": "text/x-python",
   "name": "python",
   "nbconvert_exporter": "python",
   "pygments_lexer": "ipython3",
   "version": "3.7.3"
  }
 },
 "nbformat": 4,
 "nbformat_minor": 4
}
