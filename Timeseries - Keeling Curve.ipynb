{
 "cells": [
  {
   "cell_type": "markdown",
   "metadata": {},
   "source": [
    "# Keeling Curve - Time Series "
   ]
  },
  {
   "cell_type": "markdown",
   "metadata": {},
   "source": [
    "Author: Harry Yau"
   ]
  },
  {
   "cell_type": "markdown",
   "metadata": {},
   "source": [
    "This notebook will be investing time series forecasting using the Facebook Prophet package. https://facebook.github.io/prophet/. The dataset that will be utilized is the carbon dioxide (CO<sub>2</sub>) measurements from the Mauna Loa Observatory. This monitoring station has been recording data since 1958. This dataset is also known as the Keeling Curve, which is aptly named to the scientist Charles David Keeling, and is a graph that shows the accumulation of CO<sub>2</sub> in the atmosphere. The Keeling Curve is famous for bringing the attention of the increase in CO<sub>2</sub> concentrations in the atmosphere.\n",
    "\n",
    "For more information about this Keeling Curve, please read the following Wikipedia page: https://en.wikipedia.org/wiki/Keeling_Curve"
   ]
  },
  {
   "cell_type": "code",
   "execution_count": 1,
   "metadata": {},
   "outputs": [],
   "source": [
    "import pandas as pd\n",
    "import numpy as np\n",
    "\n",
    "import datetime\n",
    "import matplotlib.pyplot as plt\n",
    "\n",
    "\n",
    "import warnings\n",
    "warnings.filterwarnings('ignore')\n",
    "\n",
    "from fbprophet import Prophet"
   ]
  },
  {
   "cell_type": "markdown",
   "metadata": {},
   "source": [
    "#### Loading the Data"
   ]
  },
  {
   "cell_type": "markdown",
   "metadata": {},
   "source": [
    "The data will be downloaded from this website: http://scrippsco2.ucsd.edu/data/atmospheric_co2/mlo. The monthly frequency will be used."
   ]
  },
  {
   "cell_type": "code",
   "execution_count": 2,
   "metadata": {},
   "outputs": [],
   "source": [
    "url = \"http://scrippsco2.ucsd.edu/assets/data/atmospheric/stations/in_situ_co2/monthly/monthly_in_situ_co2_mlo.csv\"\n",
    "\n",
    "data = pd.read_csv(url, skiprows=56, na_values=-99.99)\n",
    "\n",
    "#Change the column names. The column names on the data set spans two rows.\n",
    "colname = ['Yr', 'Mn', 'Excel Date', 'Date', 'CO2 (PPM)', 'CO2 Seasonally Adjusted (PPM)', \n",
    "           'CO2 Fit (PPM)', 'CO2 Seasonally Adjusted Fit (PPM)', 'CO2 Filled (PPM)', 'CO2 Seasonally Adjusted Filled (PPM)']\n",
    "data.columns = colname"
   ]
  },
  {
   "cell_type": "code",
   "execution_count": 3,
   "metadata": {},
   "outputs": [
    {
     "data": {
      "text/html": [
       "<div>\n",
       "<style scoped>\n",
       "    .dataframe tbody tr th:only-of-type {\n",
       "        vertical-align: middle;\n",
       "    }\n",
       "\n",
       "    .dataframe tbody tr th {\n",
       "        vertical-align: top;\n",
       "    }\n",
       "\n",
       "    .dataframe thead th {\n",
       "        text-align: right;\n",
       "    }\n",
       "</style>\n",
       "<table border=\"1\" class=\"dataframe\">\n",
       "  <thead>\n",
       "    <tr style=\"text-align: right;\">\n",
       "      <th></th>\n",
       "      <th>Yr</th>\n",
       "      <th>Mn</th>\n",
       "      <th>Excel Date</th>\n",
       "      <th>Date</th>\n",
       "      <th>CO2 (PPM)</th>\n",
       "      <th>CO2 Seasonally Adjusted (PPM)</th>\n",
       "      <th>CO2 Fit (PPM)</th>\n",
       "      <th>CO2 Seasonally Adjusted Fit (PPM)</th>\n",
       "      <th>CO2 Filled (PPM)</th>\n",
       "      <th>CO2 Seasonally Adjusted Filled (PPM)</th>\n",
       "    </tr>\n",
       "  </thead>\n",
       "  <tbody>\n",
       "    <tr>\n",
       "      <td>0</td>\n",
       "      <td>1958</td>\n",
       "      <td>1</td>\n",
       "      <td>21200</td>\n",
       "      <td>1958.0411</td>\n",
       "      <td>NaN</td>\n",
       "      <td>NaN</td>\n",
       "      <td>NaN</td>\n",
       "      <td>NaN</td>\n",
       "      <td>NaN</td>\n",
       "      <td>NaN</td>\n",
       "    </tr>\n",
       "    <tr>\n",
       "      <td>1</td>\n",
       "      <td>1958</td>\n",
       "      <td>2</td>\n",
       "      <td>21231</td>\n",
       "      <td>1958.1260</td>\n",
       "      <td>NaN</td>\n",
       "      <td>NaN</td>\n",
       "      <td>NaN</td>\n",
       "      <td>NaN</td>\n",
       "      <td>NaN</td>\n",
       "      <td>NaN</td>\n",
       "    </tr>\n",
       "    <tr>\n",
       "      <td>2</td>\n",
       "      <td>1958</td>\n",
       "      <td>3</td>\n",
       "      <td>21259</td>\n",
       "      <td>1958.2027</td>\n",
       "      <td>315.70</td>\n",
       "      <td>314.43</td>\n",
       "      <td>316.19</td>\n",
       "      <td>314.90</td>\n",
       "      <td>315.70</td>\n",
       "      <td>314.43</td>\n",
       "    </tr>\n",
       "    <tr>\n",
       "      <td>3</td>\n",
       "      <td>1958</td>\n",
       "      <td>4</td>\n",
       "      <td>21290</td>\n",
       "      <td>1958.2877</td>\n",
       "      <td>317.45</td>\n",
       "      <td>315.16</td>\n",
       "      <td>317.30</td>\n",
       "      <td>314.98</td>\n",
       "      <td>317.45</td>\n",
       "      <td>315.16</td>\n",
       "    </tr>\n",
       "    <tr>\n",
       "      <td>4</td>\n",
       "      <td>1958</td>\n",
       "      <td>5</td>\n",
       "      <td>21320</td>\n",
       "      <td>1958.3699</td>\n",
       "      <td>317.51</td>\n",
       "      <td>314.71</td>\n",
       "      <td>317.86</td>\n",
       "      <td>315.06</td>\n",
       "      <td>317.51</td>\n",
       "      <td>314.71</td>\n",
       "    </tr>\n",
       "  </tbody>\n",
       "</table>\n",
       "</div>"
      ],
      "text/plain": [
       "     Yr  Mn  Excel Date       Date  CO2 (PPM)  CO2 Seasonally Adjusted (PPM)  \\\n",
       "0  1958   1       21200  1958.0411        NaN                            NaN   \n",
       "1  1958   2       21231  1958.1260        NaN                            NaN   \n",
       "2  1958   3       21259  1958.2027     315.70                         314.43   \n",
       "3  1958   4       21290  1958.2877     317.45                         315.16   \n",
       "4  1958   5       21320  1958.3699     317.51                         314.71   \n",
       "\n",
       "   CO2 Fit (PPM)  CO2 Seasonally Adjusted Fit (PPM)  CO2 Filled (PPM)  \\\n",
       "0            NaN                                NaN               NaN   \n",
       "1            NaN                                NaN               NaN   \n",
       "2         316.19                             314.90            315.70   \n",
       "3         317.30                             314.98            317.45   \n",
       "4         317.86                             315.06            317.51   \n",
       "\n",
       "   CO2 Seasonally Adjusted Filled (PPM)  \n",
       "0                                   NaN  \n",
       "1                                   NaN  \n",
       "2                                314.43  \n",
       "3                                315.16  \n",
       "4                                314.71  "
      ]
     },
     "execution_count": 3,
     "metadata": {},
     "output_type": "execute_result"
    }
   ],
   "source": [
    "data.head()"
   ]
  },
  {
   "cell_type": "markdown",
   "metadata": {},
   "source": [
    "We will be using the column 'CO2 Filled (PPM)' as the monthly CO2 data. For a detailed explanation on the different columns of CO2's, please download the csv file and there is a detailed explanation between row 39 to 51."
   ]
  },
  {
   "cell_type": "markdown",
   "metadata": {},
   "source": [
    "#### Convert Dates to Time Stamp"
   ]
  },
  {
   "cell_type": "code",
   "execution_count": 4,
   "metadata": {},
   "outputs": [],
   "source": [
    "data['TimeStamp'] = pd.to_datetime(data['Yr'].astype(str).str.cat(data['Mn'].astype(str), sep='-'))"
   ]
  },
  {
   "cell_type": "markdown",
   "metadata": {},
   "source": [
    "#### Creating the DataFrame for Prophet"
   ]
  },
  {
   "cell_type": "markdown",
   "metadata": {},
   "source": [
    "Fitting the function for Prophet requires the input DataFrame to have column names of 'ds' and 'y'.\n",
    "\n",
    "- ds: A column with type timestamps\n",
    "- y: The value that the timeseries forecasting will be based on"
   ]
  },
  {
   "cell_type": "code",
   "execution_count": 5,
   "metadata": {},
   "outputs": [],
   "source": [
    "data_prophet = data.loc[:, ['TimeStamp', 'CO2 Filled (PPM)']].copy()\n",
    "data_prophet.columns = ['ds', 'y']\n",
    "data_prophet.dropna(inplace=True) #The 'filled' data is being used, so rows of NaN will only occur at the top and bottom of the dataset.\n",
    "data_prophet.reset_index(drop=True, inplace=True)"
   ]
  },
  {
   "cell_type": "code",
   "execution_count": 6,
   "metadata": {},
   "outputs": [
    {
     "data": {
      "text/html": [
       "<div>\n",
       "<style scoped>\n",
       "    .dataframe tbody tr th:only-of-type {\n",
       "        vertical-align: middle;\n",
       "    }\n",
       "\n",
       "    .dataframe tbody tr th {\n",
       "        vertical-align: top;\n",
       "    }\n",
       "\n",
       "    .dataframe thead th {\n",
       "        text-align: right;\n",
       "    }\n",
       "</style>\n",
       "<table border=\"1\" class=\"dataframe\">\n",
       "  <thead>\n",
       "    <tr style=\"text-align: right;\">\n",
       "      <th></th>\n",
       "      <th>ds</th>\n",
       "      <th>y</th>\n",
       "    </tr>\n",
       "  </thead>\n",
       "  <tbody>\n",
       "    <tr>\n",
       "      <td>0</td>\n",
       "      <td>1958-03-01</td>\n",
       "      <td>315.70</td>\n",
       "    </tr>\n",
       "    <tr>\n",
       "      <td>1</td>\n",
       "      <td>1958-04-01</td>\n",
       "      <td>317.45</td>\n",
       "    </tr>\n",
       "    <tr>\n",
       "      <td>2</td>\n",
       "      <td>1958-05-01</td>\n",
       "      <td>317.51</td>\n",
       "    </tr>\n",
       "    <tr>\n",
       "      <td>3</td>\n",
       "      <td>1958-06-01</td>\n",
       "      <td>317.24</td>\n",
       "    </tr>\n",
       "    <tr>\n",
       "      <td>4</td>\n",
       "      <td>1958-07-01</td>\n",
       "      <td>315.86</td>\n",
       "    </tr>\n",
       "  </tbody>\n",
       "</table>\n",
       "</div>"
      ],
      "text/plain": [
       "          ds       y\n",
       "0 1958-03-01  315.70\n",
       "1 1958-04-01  317.45\n",
       "2 1958-05-01  317.51\n",
       "3 1958-06-01  317.24\n",
       "4 1958-07-01  315.86"
      ]
     },
     "execution_count": 6,
     "metadata": {},
     "output_type": "execute_result"
    }
   ],
   "source": [
    "data_prophet.head()"
   ]
  },
  {
   "cell_type": "markdown",
   "metadata": {},
   "source": [
    "#### Fitting the Prophet Model"
   ]
  },
  {
   "cell_type": "code",
   "execution_count": 7,
   "metadata": {},
   "outputs": [
    {
     "data": {
      "text/plain": [
       "<fbprophet.forecaster.Prophet at 0x16d726e30f0>"
      ]
     },
     "execution_count": 7,
     "metadata": {},
     "output_type": "execute_result"
    }
   ],
   "source": [
    "keeling_model = Prophet(interval_width=0.95, yearly_seasonality=True, weekly_seasonality=False, daily_seasonality=False)\n",
    "keeling_model.fit(data_prophet)"
   ]
  },
  {
   "cell_type": "markdown",
   "metadata": {},
   "source": [
    "#### Forecasting using Prophet"
   ]
  },
  {
   "cell_type": "markdown",
   "metadata": {},
   "source": [
    "We will be forecasting the Keeling Curve for 20 years in the future with a monthly frequency."
   ]
  },
  {
   "cell_type": "code",
   "execution_count": 8,
   "metadata": {},
   "outputs": [],
   "source": [
    "year = 20\n",
    "fcst_period = year * 12\n",
    "\n",
    "future_dates = keeling_model.make_future_dataframe(periods=fcst_period, freq='M')\n",
    "keeling_fcst = keeling_model.predict(future_dates)"
   ]
  },
  {
   "cell_type": "code",
   "execution_count": 9,
   "metadata": {},
   "outputs": [
    {
     "data": {
      "image/png": "[encoded data removed]",
      "text/plain": [
       "<Figure size 576x576 with 1 Axes>"
      ]
     },
     "metadata": {
      "needs_background": "light"
     },
     "output_type": "display_data"
    }
   ],
   "source": [
    "#Font Settings\n",
    "font_size_title = 20\n",
    "font_size_label = 15\n",
    "font_size_tick = 12\n",
    "\n",
    "#Grabbing the first index\n",
    "first_idx = data_prophet.shape[0]\n",
    "\n",
    "plt.figure(figsize=(8,8))\n",
    "\n",
    "plt.fill_between(keeling_fcst['ds'][first_idx:], keeling_fcst['yhat_lower'][first_idx:], \n",
    "                 keeling_fcst['yhat_upper'][first_idx:], color='lightcoral', alpha = 0.5)\n",
    "plt.plot(keeling_fcst['ds'][first_idx:], keeling_fcst['yhat'][first_idx:], color='red', linestyle ='dashed')\n",
    "plt.plot(data_prophet['ds'].astype('datetime64'), data_prophet['y'], 'k-')\n",
    "plt.xlabel('Year', fontsize=font_size_label)\n",
    "plt.ylabel('CO$_2$ Concentration (ppm)', fontsize=font_size_label)\n",
    "plt.title('Monthly Average CO$_2$ Concentration', fontsize=font_size_label);\n",
    "plt.xticks(fontsize=font_size_tick)\n",
    "plt.yticks(fontsize=font_size_tick)\n",
    "plt.show();"
   ]
  }
 ],
 "metadata": {
  "kernelspec": {
   "display_name": "Python 3",
   "language": "python",
   "name": "python3"
  },
  "language_info": {
   "codemirror_mode": {
    "name": "ipython",
    "version": 3
   },
   "file_extension": ".py",
   "mimetype": "text/x-python",
   "name": "python",
   "nbconvert_exporter": "python",
   "pygments_lexer": "ipython3",
   "version": "3.7.3"
  }
 },
 "nbformat": 4,
 "nbformat_minor": 4
}
